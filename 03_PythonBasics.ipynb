{
 "cells": [
  {
   "attachments": {},
   "cell_type": "markdown",
   "metadata": {},
   "source": [
    "# Python Basics"
   ]
  },
  {
   "attachments": {},
   "cell_type": "markdown",
   "metadata": {},
   "source": [
    "## Data Types\n",
    "\n",
    "Fundamental Data Types:\n",
    "* `int`\n",
    "* `float`\n",
    "* `bool`\n",
    "* `str`\n",
    "* `list`\n",
    "* `tuple`\n",
    "* `set`\n",
    "* `dict`"
   ]
  },
  {
   "cell_type": "code",
   "execution_count": 7,
   "metadata": {},
   "outputs": [
    {
     "name": "stdout",
     "output_type": "stream",
     "text": [
      "<class 'int'>\n",
      "<class 'int'>\n",
      "<class 'int'>\n",
      "<class 'float'>\n",
      "8\n",
      "0\n",
      "1\n"
     ]
    }
   ],
   "source": [
    "# Fundamental data types\n",
    "print(type(2+4)) # 'type' tells you the fundamental class\n",
    "print(type(2-4))\n",
    "print(type(2*4))\n",
    "print(type(2/4))\n",
    "\n",
    "print(2 ** 3) # squares number\n",
    "print(2 // 3) # rounds down to integer\n",
    "print(5 % 4) # prints the remainder"
   ]
  },
  {
   "cell_type": "code",
   "execution_count": 11,
   "metadata": {},
   "outputs": [
    {
     "name": "stdout",
     "output_type": "stream",
     "text": [
      "4\n",
      "3.1\n"
     ]
    }
   ],
   "source": [
    "# Math functions\n",
    "print(round(3.9)) # rounds using 0.5 as threshold\n",
    "print(abs(-3.1)) # absolute value"
   ]
  },
  {
   "cell_type": "code",
   "execution_count": 1,
   "metadata": {},
   "outputs": [
    {
     "name": "stdout",
     "output_type": "stream",
     "text": [
      "8\n"
     ]
    }
   ],
   "source": [
    "# Operator precedence\n",
    "print(20 - 3 * 4)"
   ]
  },
  {
   "attachments": {},
   "cell_type": "markdown",
   "metadata": {},
   "source": [
    "## Variables\n",
    "\n",
    "Good rules of thumb for defining variables:\n",
    "* snake_case\n",
    "* Start with lowercase or underscore\n",
    "* Case sensitive\n",
    "* Don't overwrite keywords"
   ]
  },
  {
   "cell_type": "code",
   "execution_count": 2,
   "metadata": {},
   "outputs": [
    {
     "name": "stdout",
     "output_type": "stream",
     "text": [
      "1\n",
      "2\n",
      "3\n"
     ]
    }
   ],
   "source": [
    "a,b,c = 1,2,3\n",
    "\n",
    "print(a)\n",
    "print(b)\n",
    "print(c)"
   ]
  },
  {
   "cell_type": "code",
   "execution_count": 5,
   "metadata": {},
   "outputs": [
    {
     "name": "stdout",
     "output_type": "stream",
     "text": [
      "10\n"
     ]
    }
   ],
   "source": [
    "# Augmented assignment operator\n",
    "some_value = 5\n",
    "some_value += 2 # (+=, -=, *=)\n",
    "print(some_value)"
   ]
  },
  {
   "attachments": {},
   "cell_type": "markdown",
   "metadata": {},
   "source": [
    "## Strings"
   ]
  },
  {
   "cell_type": "code",
   "execution_count": 6,
   "metadata": {},
   "outputs": [
    {
     "name": "stdout",
     "output_type": "stream",
     "text": [
      "\n",
      "WOW\n",
      "0 0\n",
      "---\n",
      "\n"
     ]
    }
   ],
   "source": [
    "username = 'supercoder'\n",
    "password = 'supersecret'\n",
    "\n",
    "# Three quotation marks indicate a long string that can be carried multiple lines\n",
    "long_string = '''\n",
    "WOW\n",
    "0 0\n",
    "---\n",
    "'''\n",
    "\n",
    "print(long_string)"
   ]
  },
  {
   "cell_type": "code",
   "execution_count": 8,
   "metadata": {},
   "outputs": [
    {
     "name": "stdout",
     "output_type": "stream",
     "text": [
      "Nicholas Valente\n"
     ]
    }
   ],
   "source": [
    "# Combining strings\n",
    "first_name = 'Nicholas'\n",
    "last_name = 'Valente'\n",
    "\n",
    "full_name = first_name + ' ' + last_name\n",
    "\n",
    "print(full_name)"
   ]
  },
  {
   "attachments": {},
   "cell_type": "markdown",
   "metadata": {},
   "source": [
    "### String concatenation"
   ]
  },
  {
   "cell_type": "code",
   "execution_count": 15,
   "metadata": {},
   "outputs": [
    {
     "name": "stdout",
     "output_type": "stream",
     "text": [
      "hello Nicholas, you are 26 years old\n"
     ]
    }
   ],
   "source": [
    "# Simple concatenation\n",
    "print(\"hello\" + \" Nicholas, you are \" + str(26) + \" years old\")"
   ]
  },
  {
   "attachments": {},
   "cell_type": "markdown",
   "metadata": {},
   "source": [
    "## Escape Sequences\n",
    "\n",
    "* `\"\\\"`: Indicates that anything following a backslash is a string\n",
    "* `\"\\t\"`: Tab function\n",
    "* `\"\\n`\": New line function"
   ]
  },
  {
   "cell_type": "code",
   "execution_count": 23,
   "metadata": {},
   "outputs": [
    {
     "name": "stdout",
     "output_type": "stream",
     "text": [
      "It's \"kind of\" sunny\n",
      "I hope you have a good day!\n"
     ]
    }
   ],
   "source": [
    "# Escape sequence\n",
    "weather = \"It\\'s \\\"kind of\\\" sunny\\nI hope you have a good day!\"\n",
    "print(weather)"
   ]
  },
  {
   "attachments": {},
   "cell_type": "markdown",
   "metadata": {},
   "source": [
    "## Formatted Strings\n",
    "\n",
    "* `f`: Indicates to python that all information should be characterized by a `str` datatype"
   ]
  },
  {
   "cell_type": "code",
   "execution_count": 27,
   "metadata": {},
   "outputs": [
    {
     "name": "stdout",
     "output_type": "stream",
     "text": [
      "Hi Johnny. You are 55 years old\n"
     ]
    }
   ],
   "source": [
    "# Formatted strings\n",
    "name = \"Johnny\"\n",
    "age = 55 \n",
    "\n",
    "print(f'Hi {name}. You are {age} years old')"
   ]
  },
  {
   "cell_type": "code",
   "execution_count": 34,
   "metadata": {},
   "outputs": [
    {
     "name": "stdout",
     "output_type": "stream",
     "text": [
      "m\n",
      "me me me\n",
      "m em\n"
     ]
    }
   ],
   "source": [
    "# Indexing a string\n",
    "selfish = 'me me me'\n",
    "\n",
    "print(selfish[0]) # python starts counting from 0\n",
    "print(selfish[0:8]) # the length is 8 because of the indexing"
   ]
  },
  {
   "attachments": {},
   "cell_type": "markdown",
   "metadata": {},
   "source": [
    "### String slicing\n",
    "\n",
    "Strings are easily accesible. We can index strings accordingly.\n",
    "\n",
    "`string[start_index:stop_index:step_over]`"
   ]
  },
  {
   "cell_type": "code",
   "execution_count": 41,
   "metadata": {},
   "outputs": [
    {
     "name": "stdout",
     "output_type": "stream",
     "text": [
      "01234567\n",
      "0246\n",
      "1234567\n",
      "01234\n",
      "5\n",
      "76543210\n",
      "5\n"
     ]
    }
   ],
   "source": [
    "# Let's try a numbers string\n",
    "selfish_num = \"01234567\"\n",
    "\n",
    "print(selfish_num[0:8]) # prints the whole string\n",
    "print(selfish_num[0:8:2])\n",
    "print(selfish_num[1:]) # prints the whole string because there is no \"stop\" index\n",
    "print(selfish_num[:5]) # stop at index 5\n",
    "print(selfish_num[-3]) # indexing from the back\n",
    "print(selfish_num[::-1]) # prints string in reverse order\n",
    "\n",
    "print(len('hello')) # starts from 1"
   ]
  },
  {
   "cell_type": "markdown",
   "metadata": {},
   "source": [
    "## Methods"
   ]
  },
  {
   "cell_type": "code",
   "execution_count": 44,
   "metadata": {},
   "outputs": [
    {
     "name": "stdout",
     "output_type": "stream",
     "text": [
      "This is my name\n",
      "8\n"
     ]
    }
   ],
   "source": [
    "quote = \"this is my name\"\n",
    "\n",
    "print(quote.capitalize()) # captilizes first letter\n",
    "print(quote.find(\"my\"))"
   ]
  },
  {
   "cell_type": "code",
   "execution_count": 49,
   "metadata": {},
   "outputs": [
    {
     "name": "stdout",
     "output_type": "stream",
     "text": [
      "You age is 26\n"
     ]
    }
   ],
   "source": [
    "birth_year = input(\"What year were you born?\")\n",
    "age = 2022 - int(birth_year)\n",
    "\n",
    "print(f\"You age is {age}\")"
   ]
  },
  {
   "cell_type": "code",
   "execution_count": 52,
   "metadata": {},
   "outputs": [
    {
     "name": "stdout",
     "output_type": "stream",
     "text": [
      "Hi, navalente. Your password is 4 characters long: ****\n"
     ]
    }
   ],
   "source": [
    "# Password excercise\n",
    "\n",
    "username = input(\"Enter a username \\n\")\n",
    "password = input(\"Enter a password \\n\")\n",
    "convert_password = \"*\" * len(password) # converting password length to stars\n",
    "\n",
    "print(f\"Hi, {username}. Your password is {len(password)} characters long: {convert_password}\")"
   ]
  },
  {
   "attachments": {},
   "cell_type": "markdown",
   "metadata": {},
   "source": [
    "## Lists\n",
    "\n",
    "List is a form of an array from other languages"
   ]
  },
  {
   "cell_type": "code",
   "execution_count": null,
   "metadata": {},
   "outputs": [],
   "source": [
    "# Making sample lists\n",
    "li = [1,2,3,4,5]\n",
    "li2 = ['a','b','c','d']"
   ]
  },
  {
   "cell_type": "code",
   "execution_count": 55,
   "metadata": {},
   "outputs": [
    {
     "name": "stdout",
     "output_type": "stream",
     "text": [
      "notebooks\n",
      "sunglasses\n"
     ]
    }
   ],
   "source": [
    "# Data structure\n",
    "amazon_cart  = [\"notebooks\",\"sunglasses\"]\n",
    "print(amazon_cart[0]), print(amazon_cart[1]);"
   ]
  },
  {
   "attachments": {},
   "cell_type": "markdown",
   "metadata": {},
   "source": [
    "### List slicing"
   ]
  },
  {
   "cell_type": "code",
   "execution_count": 60,
   "metadata": {},
   "outputs": [
    {
     "name": "stdout",
     "output_type": "stream",
     "text": [
      "['sunglasses', 'toys']\n",
      "['laptop', 'toys']\n"
     ]
    }
   ],
   "source": [
    "amazon_cart  = [\"notebooks\",\n",
    "                \"sunglasses\",\n",
    "                \"toys\",\n",
    "                \"grapes\",\n",
    "]\n",
    "\n",
    "amazon_cart[0] = \"laptop\" # lists are re-writable\n",
    "print(amazon_cart[1:3])\n",
    "print(amazon_cart[0::2])\n"
   ]
  },
  {
   "attachments": {},
   "cell_type": "markdown",
   "metadata": {},
   "source": [
    "### Matrix"
   ]
  },
  {
   "cell_type": "code",
   "execution_count": 3,
   "metadata": {},
   "outputs": [
    {
     "data": {
      "text/plain": [
       "2"
      ]
     },
     "execution_count": 3,
     "metadata": {},
     "output_type": "execute_result"
    }
   ],
   "source": [
    "matrix = [\n",
    "    [1,2,3],\n",
    "    [2,4,6],\n",
    "    [7,8,9]\n",
    "]\n",
    "\n",
    "matrix[0][1] # 1st row, 2nd col"
   ]
  },
  {
   "attachments": {},
   "cell_type": "markdown",
   "metadata": {},
   "source": [
    "### List methods\n",
    "\n",
    "* `append()`: Adding to the end of a list\n",
    "* `pop()`: Removes the last element of a list if index is not specified\n",
    "* `remove()`: Finds element that matches the desired criteria and removes it\n",
    "* `clear()`: Removes every element in a list"
   ]
  },
  {
   "cell_type": "code",
   "execution_count": 9,
   "metadata": {},
   "outputs": [
    {
     "name": "stdout",
     "output_type": "stream",
     "text": [
      "[1, 2, 3, 4, 5, 100]\n",
      "[2, 3, 4, 5, 100]\n"
     ]
    }
   ],
   "source": [
    "basket = [1,2,3,4,5]\n",
    "\n",
    "# Adding to the end of an array -> use append\n",
    "basket.append(100)\n",
    "print(basket)\n",
    "\n",
    "# Removing\n",
    "basket.pop() # removes the last element of the list\n",
    "print(basket)"
   ]
  },
  {
   "cell_type": "code",
   "execution_count": 11,
   "metadata": {},
   "outputs": [
    {
     "name": "stdout",
     "output_type": "stream",
     "text": [
      "1\n",
      "True\n"
     ]
    }
   ],
   "source": [
    "# Conitinuing on with other methods\n",
    "basket = [1,2,3,4,5]\n",
    "print(basket.index(2)) # returns the location of the inputted element\n",
    "\n",
    "basket = ['a','b','c','d','e']\n",
    "print('a' in basket)"
   ]
  },
  {
   "cell_type": "code",
   "execution_count": 12,
   "metadata": {},
   "outputs": [
    {
     "name": "stdout",
     "output_type": "stream",
     "text": [
      "[1, 2, 3, 4, 5, 6, 7, 8, 9, 10, 11, 12, 13, 14, 15, 16, 17, 18, 19, 20, 21, 22, 23, 24, 25, 26, 27, 28, 29, 30, 31, 32, 33, 34, 35, 36, 37, 38, 39, 40, 41, 42, 43, 44, 45, 46, 47, 48, 49, 50, 51, 52, 53, 54, 55, 56, 57, 58, 59, 60, 61, 62, 63, 64, 65, 66, 67, 68, 69, 70, 71, 72, 73, 74, 75, 76, 77, 78, 79, 80, 81, 82, 83, 84, 85, 86, 87, 88, 89, 90, 91, 92, 93, 94, 95, 96, 97, 98, 99]\n"
     ]
    }
   ],
   "source": [
    "# Using the range function\n",
    "print(list(range(1,100))) # range(start_index, end_index)"
   ]
  },
  {
   "cell_type": "code",
   "execution_count": 13,
   "metadata": {},
   "outputs": [
    {
     "name": "stdout",
     "output_type": "stream",
     "text": [
      "hi my name is Nicholas\n"
     ]
    }
   ],
   "source": [
    "# Combining strings using join\n",
    "sentence = ' '\n",
    "new_sentence = sentence.join(['hi', 'my', 'name', 'is', 'Nicholas'])\n",
    "print(new_sentence)"
   ]
  },
  {
   "cell_type": "markdown",
   "metadata": {},
   "source": [
    "### Unpacking"
   ]
  },
  {
   "cell_type": "code",
   "execution_count": 16,
   "metadata": {},
   "outputs": [
    {
     "name": "stdout",
     "output_type": "stream",
     "text": [
      "1\n",
      "2\n",
      "3\n",
      "[4, 5, 6, 7, 8, 9]\n"
     ]
    }
   ],
   "source": [
    "# List unpacking\n",
    "a,b,c, *other, = list(range(1,10))\n",
    "\n",
    "print(a)\n",
    "print(b)\n",
    "print(c)\n",
    "print(other)"
   ]
  },
  {
   "attachments": {},
   "cell_type": "markdown",
   "metadata": {},
   "source": [
    "## Dictionary"
   ]
  },
  {
   "cell_type": "code",
   "execution_count": 19,
   "metadata": {},
   "outputs": [
    {
     "data": {
      "text/plain": [
       "2"
      ]
     },
     "execution_count": 19,
     "metadata": {},
     "output_type": "execute_result"
    }
   ],
   "source": [
    "dictionary = {\n",
    "    'a': [1,2,3],\n",
    "    'b': 'hello',\n",
    "    'x': True\n",
    "}\n",
    "\n",
    "dictionary['a'][1] # grab the value of the input. Unordered key value pairs"
   ]
  },
  {
   "cell_type": "code",
   "execution_count": null,
   "metadata": {},
   "outputs": [],
   "source": []
  }
 ],
 "metadata": {
  "kernelspec": {
   "display_name": "tf2.9",
   "language": "python",
   "name": "python3"
  },
  "language_info": {
   "codemirror_mode": {
    "name": "ipython",
    "version": 3
   },
   "file_extension": ".py",
   "mimetype": "text/x-python",
   "name": "python",
   "nbconvert_exporter": "python",
   "pygments_lexer": "ipython3",
   "version": "3.9.0"
  },
  "orig_nbformat": 4,
  "vscode": {
   "interpreter": {
    "hash": "3b857c820aa0d415be1b12344743bfddcf32111184ae560db226809c81026c4c"
   }
  }
 },
 "nbformat": 4,
 "nbformat_minor": 2
}
