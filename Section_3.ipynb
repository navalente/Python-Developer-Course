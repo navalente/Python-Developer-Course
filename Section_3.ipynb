{
 "cells": [
  {
   "attachments": {},
   "cell_type": "markdown",
   "metadata": {},
   "source": [
    "# Python Basics"
   ]
  },
  {
   "attachments": {},
   "cell_type": "markdown",
   "metadata": {},
   "source": [
    "## Data Types\n",
    "\n",
    "Fundamental Data Types:\n",
    "* `int`\n",
    "* `float`\n",
    "* `bool`\n",
    "* `str`\n",
    "* `list`\n",
    "* `tuple`\n",
    "* `set`\n",
    "* `dict`"
   ]
  },
  {
   "cell_type": "code",
   "execution_count": 7,
   "metadata": {},
   "outputs": [
    {
     "name": "stdout",
     "output_type": "stream",
     "text": [
      "<class 'int'>\n",
      "<class 'int'>\n",
      "<class 'int'>\n",
      "<class 'float'>\n",
      "8\n",
      "0\n",
      "1\n"
     ]
    }
   ],
   "source": [
    "# Fundamental data types\n",
    "print(type(2+4)) # 'type' tells you the fundamental class\n",
    "print(type(2-4))\n",
    "print(type(2*4))\n",
    "print(type(2/4))\n",
    "\n",
    "print(2 ** 3) # squares number\n",
    "print(2 // 3) # rounds down to integer\n",
    "print(5 % 4) # prints the remainder"
   ]
  }
 ],
 "metadata": {
  "kernelspec": {
   "display_name": "tf2.9",
   "language": "python",
   "name": "python3"
  },
  "language_info": {
   "codemirror_mode": {
    "name": "ipython",
    "version": 3
   },
   "file_extension": ".py",
   "mimetype": "text/x-python",
   "name": "python",
   "nbconvert_exporter": "python",
   "pygments_lexer": "ipython3",
   "version": "3.9.0"
  },
  "orig_nbformat": 4,
  "vscode": {
   "interpreter": {
    "hash": "3b857c820aa0d415be1b12344743bfddcf32111184ae560db226809c81026c4c"
   }
  }
 },
 "nbformat": 4,
 "nbformat_minor": 2
}
